{
 "cells": [
  {
   "cell_type": "code",
   "execution_count": 3,
   "id": "12ef33fe-34b0-4539-9c39-8db125736272",
   "metadata": {},
   "outputs": [
    {
     "name": "stdout",
     "output_type": "stream",
     "text": [
      "Defaulting to user installation because normal site-packages is not writeable\n",
      "Requirement already satisfied: scikit-learn in /home/alimehdi/.local/lib/python3.12/site-packages (1.6.1)\n",
      "Requirement already satisfied: numpy>=1.19.5 in /home/alimehdi/.local/lib/python3.12/site-packages (from scikit-learn) (1.26.4)\n",
      "Requirement already satisfied: scipy>=1.6.0 in /home/alimehdi/.local/lib/python3.12/site-packages (from scikit-learn) (1.15.2)\n",
      "Requirement already satisfied: joblib>=1.2.0 in /home/alimehdi/.local/lib/python3.12/site-packages (from scikit-learn) (1.4.2)\n",
      "Requirement already satisfied: threadpoolctl>=3.1.0 in /home/alimehdi/.local/lib/python3.12/site-packages (from scikit-learn) (3.6.0)\n"
     ]
    }
   ],
   "source": [
    "!pip install scikit-learn --break-system-packages\n",
    "\n"
   ]
  },
  {
   "cell_type": "code",
   "execution_count": 6,
   "id": "c26d6a4f-6b83-4133-a1a8-0d6abbd727ec",
   "metadata": {},
   "outputs": [
    {
     "name": "stdout",
     "output_type": "stream",
     "text": [
      "Best Parameters (GridSearchCV): {'max_depth': None, 'min_samples_leaf': 1, 'min_samples_split': 2, 'n_estimators': 10}\n",
      "Best Score (GridSearchCV): 0.95\n",
      "Best Parameters (RandomizedSearchCV): {'n_estimators': np.int64(110), 'min_samples_split': np.int64(6), 'min_samples_leaf': np.int64(1), 'max_depth': None}\n",
      "Best Score (RandomizedSearchCV): 0.95\n",
      "Accuracy (GridSearchCV): 1.0\n",
      "Accuracy (RandomizedSearchCV): 1.0\n"
     ]
    }
   ],
   "source": [
    "from sklearn.ensemble import RandomForestClassifier\n",
    "from sklearn.model_selection import train_test_split, GridSearchCV, RandomizedSearchCV\n",
    "from sklearn.datasets import load_iris\n",
    "from sklearn.metrics import accuracy_score\n",
    "import numpy as np\n",
    "\n",
    "# Load Iris dataset\n",
    "iris = load_iris()\n",
    "X = iris.data\n",
    "y = iris.target\n",
    "\n",
    "# Split dataset into training and test sets\n",
    "X_train, X_test, y_train, y_test = train_test_split(X, y, test_size=0.2, random_state=42)\n",
    "\n",
    "# Define hyperparameter grid for GridSearchCV\n",
    "param_grid = {\n",
    "    'n_estimators': [10, 50, 100, 200],\n",
    "    'max_depth': [None, 5, 10],\n",
    "    'min_samples_split': [2, 5, 10],\n",
    "    'min_samples_leaf': [1, 5, 10]\n",
    "}\n",
    "\n",
    "# Define hyperparameter distribution for RandomizedSearchCV\n",
    "param_dist = {\n",
    "    'n_estimators': np.arange(10, 200, 10),\n",
    "    'max_depth': [None] + list(np.arange(5, 20, 5)),\n",
    "    'min_samples_split': np.arange(2, 11),\n",
    "    'min_samples_leaf': np.arange(1, 11)\n",
    "}\n",
    "\n",
    "# GridSearchCV\n",
    "grid_search = GridSearchCV(RandomForestClassifier(random_state=42), param_grid, cv=5)\n",
    "grid_search.fit(X_train, y_train)\n",
    "\n",
    "print(\"Best Parameters (GridSearchCV):\", grid_search.best_params_)\n",
    "print(\"Best Score (GridSearchCV):\", grid_search.best_score_)\n",
    "\n",
    "# RandomizedSearchCV\n",
    "random_search = RandomizedSearchCV(RandomForestClassifier(random_state=42), param_dist, cv=5, n_iter=10)\n",
    "random_search.fit(X_train, y_train)\n",
    "\n",
    "print(\"Best Parameters (RandomizedSearchCV):\", random_search.best_params_)\n",
    "print(\"Best Score (RandomizedSearchCV):\", random_search.best_score_)\n",
    "\n",
    "# Evaluate the best models\n",
    "best_grid_model = grid_search.best_estimator_\n",
    "best_random_model = random_search.best_estimator_\n",
    "\n",
    "y_pred_grid = best_grid_model.predict(X_test)\n",
    "y_pred_random = best_random_model.predict(X_test)\n",
    "\n",
    "print(\"Accuracy (GridSearchCV):\", accuracy_score(y_test, y_pred_grid))\n",
    "print(\"Accuracy (RandomizedSearchCV):\", accuracy_score(y_test, y_pred_random))"
   ]
  },
  {
   "cell_type": "code",
   "execution_count": 1,
   "id": "89866f41-4863-48e0-8a71-f07867874a13",
   "metadata": {},
   "outputs": [
    {
     "name": "stdout",
     "output_type": "stream",
     "text": [
      "b'\\x80\\x04\\x95\\xa5\\x05\\x00\\x00\\x00\\x00\\x00\\x00}\\x94(\\x8c\\x05model\\x94\\x8c\\x18sklearn.ensemble._forest\\x94\\x8c\\x15RandomForestRegressor\\x94\\x93\\x94)\\x81\\x94}\\x94(\\x8c\\testimator\\x94\\x8c\\x15sklearn.tree._classes\\x94\\x8c\\x15DecisionTreeRegressor\\x94\\x93\\x94)\\x81\\x94}\\x94(\\x8c\\tcriterion\\x94\\x8c\\rsquared_error\\x94\\x8c\\x08splitter\\x94\\x8c\\x04best\\x94\\x8c\\tmax'\n"
     ]
    }
   ],
   "source": [
    "with open('model.pkl', 'rb') as f:\n",
    "    content = f.read(200)\n",
    "    print(content[:200])  # See what's in the file\n"
   ]
  },
  {
   "cell_type": "code",
   "execution_count": null,
   "id": "c521f134-ae48-4f8e-a988-559f8e341d5f",
   "metadata": {},
   "outputs": [],
   "source": []
  }
 ],
 "metadata": {
  "kernelspec": {
   "display_name": "tmp",
   "language": "python",
   "name": "tmp"
  },
  "language_info": {
   "codemirror_mode": {
    "name": "ipython",
    "version": 3
   },
   "file_extension": ".py",
   "mimetype": "text/x-python",
   "name": "python",
   "nbconvert_exporter": "python",
   "pygments_lexer": "ipython3",
   "version": "3.12.3"
  }
 },
 "nbformat": 4,
 "nbformat_minor": 5
}
